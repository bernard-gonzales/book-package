{
 "cells": [
  {
   "cell_type": "markdown",
   "id": "bbea800c-241d-42b4-a744-ecaffe13959e",
   "metadata": {},
   "source": [
    "# Metadata\n",
    "\n",
    "```yaml\n",
    "Course:  DS 5100\n",
    "Module:  09 Python Packages\n",
    "Topic:   HW Package Booklover\n",
    "Author:  R.C. Alvarado (adapted)\n",
    "Date:    7 July 2023 (revised)\n",
    "```"
   ]
  },
  {
   "cell_type": "markdown",
   "id": "36f46fdd-2405-4dc8-9ea1-33f395e56cc0",
   "metadata": {},
   "source": [
    "# Student Info\n",
    "\n",
    "* Name: Bernard Gonzales\n",
    "* Net UD: qja8kc\n",
    "* URL of this file in GitHub:"
   ]
  },
  {
   "cell_type": "markdown",
   "id": "375875a8-1503-46eb-8ea1-7e5bf39b5c41",
   "metadata": {},
   "source": [
    "# Instructions\n",
    "\n",
    "In your **private course repo on Rivanna**, use this Jupyter notebook and the data file described to write code that performs the tasks below. \n",
    "\n",
    "Save your notebook in the `M09` directory.\n",
    "\n",
    "Remember to add and commit these files to your repo. \n",
    "\n",
    "Then push your commits to your repo on GitHib.\n",
    "\n",
    "Be sure to fill out the **Student Info** block above.\n",
    "\n",
    "To submit your homework, save your results as a PDF and upload it to GradeScope. More information about how to create the PDF for this assignment are included at the end of this document.\n",
    "\n",
    "**TOTAL POINTS: 8**"
   ]
  },
  {
   "cell_type": "markdown",
   "id": "1baf08dc-35fe-44f1-bc26-7e1130ee993e",
   "metadata": {},
   "source": [
    "# Overview\n",
    "\n",
    "Follow the following recipe we used in class to package the code you wrote for `HW08` -- `booklover.py` and `booklover_test.py`.\n",
    "\n",
    "* Create a new git repo for your package.\n",
    "* Create and edit the required files and directories for your package and move the booklover modules there.\n",
    "* Stage, commit, and push all the files you've created.\n",
    "* Install your package with pip.\n",
    "* Outside of your package dir, write a script to test your method.\n",
    "\n",
    "Put this notebook in your repo. This will allow you to execute bash commands and capture the outpunt directly in the notebook.\n",
    "\n",
    "**TOTAL: 8 POINTS**"
   ]
  },
  {
   "cell_type": "markdown",
   "id": "6e39ba79-49ee-41e8-9e49-23d9d6bac2e0",
   "metadata": {
    "tags": []
   },
   "source": [
    "# Tasks"
   ]
  },
  {
   "cell_type": "markdown",
   "id": "fb11de14",
   "metadata": {},
   "source": [
    "## Task 1\n",
    "\n",
    "(5 points)\n",
    "\n",
    "Show the directory structure of your repo by running this command from the root of your repo:"
   ]
  },
  {
   "cell_type": "markdown",
   "id": "158c679c-06a3-4998-9db0-8d317d0402f4",
   "metadata": {},
   "source": [
    "```bash\n",
    "$ ls -lR\n",
    ".:\n",
    "total 18\n",
    "-rw-r--r-- 1 berna 197121 1094 Jul  2 14:41 LICENSE\n",
    "-rw-r--r-- 1 berna 197121 5837 Jul  2 14:52 M09-HW-1-1.ipynb\n",
    "-rw-r--r-- 1 berna 197121   14 Jul  2 14:41 README.md\n",
    "drwxr-xr-x 1 berna 197121    0 Jul  2 14:58 book-lover/\n",
    "drwxr-xr-x 1 berna 197121    0 Jul  2 14:59 book_package.egg-info/\n",
    "-rw-r--r-- 1 berna 197121  315 Jul  2 14:58 setup.py\n",
    "\n",
    "./book-lover:\n",
    "total 8\n",
    "-rw-r--r-- 1 berna 197121  941 Jul  1 21:35 booklover.py\n",
    "-rw-r--r-- 1 berna 197121 2300 Jul  1 21:34 booklover_test.py\n",
    "\n",
    "./book_package.egg-info:\n",
    "total 4\n",
    "-rw-r--r-- 1 berna 197121 251 Jul  2 14:59 PKG-INFO\n",
    "-rw-r--r-- 1 berna 197121 223 Jul  2 14:59 SOURCES.txt\n",
    "-rw-r--r-- 1 berna 197121   1 Jul  2 14:59 dependency_links.txt\n",
    "-rw-r--r-- 1 berna 197121  11 Jul  2 14:59 top_level.txt\n",
    "```"
   ]
  },
  {
   "cell_type": "markdown",
   "id": "6b6f288b-05aa-441b-8c73-84b50b3b6844",
   "metadata": {},
   "source": [
    "## Task 2\n",
    "\n",
    "(1 point)\n",
    "\n",
    "Put the URL of your GitHub repo here. Just paste it into a Markdown cell."
   ]
  },
  {
   "cell_type": "markdown",
   "id": "4d09d889-6104-4f20-b31c-2d8a72b17693",
   "metadata": {},
   "source": [
    "URL: https://github.com/bernard-gonzales/book-package"
   ]
  },
  {
   "cell_type": "markdown",
   "id": "f989dcd1-b1d2-4eb9-8ef6-8ca2d8495260",
   "metadata": {
    "lines_to_next_cell": 0
   },
   "source": [
    "## Task 3\n",
    "\n",
    "(1 point)\n",
    "\n",
    "Show the results of installing your package.\n",
    "\n",
    "```bash\n",
    "$ pip install -e .\n",
    "Defaulting to user installation because normal site-packages is not writeable\n",
    "Obtaining file:///C:/Users/berna/book-package\n",
    "  Installing build dependencies ... done\n",
    "  Checking if build backend supports build_editable ... done\n",
    "  Getting requirements to build editable ... done\n",
    "  Preparing editable metadata (pyproject.toml) ... done\n",
    "Building wheels for collected packages: book-package\n",
    "  Building editable for book-package (pyproject.toml) ... done\n",
    "  Created wheel for book-package: filename=book_package-0.1-0.editable-py3-none-any.whl size=3615 sha256=f0937309df20da20a9357d03961d7a2b49caf7cb2fa792a5f8c1befc8a34f248\n",
    "  Stored in directory: C:\\Users\\berna\\AppData\\Local\\Temp\\pip-ephem-wheel-cache-1_x_iqw_\\wheels\\92\\c9\\48\\3b2908dca41053f5bb3e1702fe3fc0e056a3cd151d1010c613\n",
    "Successfully built book-package\n",
    "Installing collected packages: book-package\n",
    "Successfully installed book-package-0.1\n",
    "```"
   ]
  },
  {
   "cell_type": "markdown",
   "id": "5b1a642e-74f0-43ff-97a3-9ddc7553978e",
   "metadata": {},
   "source": [
    "## Task 4\n",
    "\n",
    "(1 point)\n",
    "\n",
    "Create a file outside your repo to test your package by running it.\n",
    "\n",
    "To do this, import the package into your file and create a BookLover object.\n",
    "\n",
    "Then add a book and then print number books read.\n",
    "\n",
    "Then run the file. \n",
    "\n",
    "Show the output of running the file below, using a command like the following:\n",
    "\n",
    "```bash\n",
    "!python ../book_lover_demo.py\n",
    "```"
   ]
  },
  {
   "cell_type": "code",
   "execution_count": null,
   "id": "5924fca8-6483-4f2b-a33f-6550d1726d6e",
   "metadata": {},
   "outputs": [],
   "source": []
  }
 ],
 "metadata": {
  "jupytext": {
   "cell_metadata_filter": "-all",
   "main_language": "bash",
   "notebook_metadata_filter": "-all"
  },
  "kernelspec": {
   "display_name": "Python 3 (ipykernel)",
   "language": "python",
   "name": "python3"
  },
  "language_info": {
   "codemirror_mode": {
    "name": "ipython",
    "version": 3
   },
   "file_extension": ".py",
   "mimetype": "text/x-python",
   "name": "python",
   "nbconvert_exporter": "python",
   "pygments_lexer": "ipython3",
   "version": "3.12.4"
  },
  "vscode": {
   "interpreter": {
    "hash": "c3b963de08c47c3b6758389c5e0978ad73698a111eb508d4e16b558edb8f4cbf"
   }
  },
  "widgets": {
   "application/vnd.jupyter.widget-state+json": {
    "state": {},
    "version_major": 2,
    "version_minor": 0
   }
  }
 },
 "nbformat": 4,
 "nbformat_minor": 5
}
